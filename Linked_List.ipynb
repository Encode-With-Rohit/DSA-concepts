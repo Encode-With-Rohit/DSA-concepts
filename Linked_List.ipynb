{
  "nbformat": 4,
  "nbformat_minor": 0,
  "metadata": {
    "colab": {
      "provenance": []
    },
    "kernelspec": {
      "name": "python3",
      "display_name": "Python 3"
    },
    "language_info": {
      "name": "python"
    }
  },
  "cells": [
    {
      "cell_type": "code",
      "execution_count": 1,
      "metadata": {
        "id": "zNlvhxcagjlM"
      },
      "outputs": [],
      "source": [
        "#Defining a class 'Node'\n",
        "class Node :\n",
        "\n",
        "  def __init__ (self, data, next=None) :\n",
        "    self.__data = data\n",
        "    self.__next = next\n",
        "\n",
        "\n",
        "  #Method to get the data value\n",
        "  def getdata(self) :\n",
        "    return self.__data\n",
        "\n",
        "  #Method to set the data value\n",
        "  def setdata(self, data) :\n",
        "    self.__data = data\n",
        "\n",
        "  #Method to get the next value\n",
        "  def getnext(self) :\n",
        "    return self.__next\n",
        "\n",
        "  #Method to set the next value\n",
        "  def setnext(self, next) :\n",
        "    self.__next = next"
      ]
    },
    {
      "cell_type": "code",
      "source": [
        "#Defining the collection of nodes\n",
        "head = Node(1)\n",
        "node1 = Node(2)\n",
        "node2 = Node(3)\n",
        "node3 = Node(4)\n",
        "node4 = Node(5)\n",
        "\n",
        "#Creating linkage between the nodes\n",
        "head.setnext(node1)\n",
        "node1.setnext(node2)\n",
        "node2.setnext(node3)\n",
        "node3.setnext(node4)"
      ],
      "metadata": {
        "id": "3DqQqf9kgp75"
      },
      "execution_count": 2,
      "outputs": []
    },
    {
      "cell_type": "code",
      "source": [
        "#Traversing though each of the nodes using 'Loop' and priniting out the linked list\n",
        "def traverse(head) :\n",
        "  temp = head\n",
        "  while temp :\n",
        "    print (temp.getdata(), end = \"->\")\n",
        "    temp = temp.getnext()\n",
        "\n",
        "\n",
        "traverse(head)"
      ],
      "metadata": {
        "colab": {
          "base_uri": "https://localhost:8080/"
        },
        "id": "j6rZInhjgtt2",
        "outputId": "acd08e53-43b4-415c-ebb2-caa614731718"
      },
      "execution_count": 3,
      "outputs": [
        {
          "output_type": "stream",
          "name": "stdout",
          "text": [
            "1->2->3->4->5->"
          ]
        }
      ]
    },
    {
      "cell_type": "code",
      "source": [
        "#Traversing though each of the nodes using 'Recursion' and priniting out the linked list\n",
        "def traverse_recurion(head) :\n",
        "  temp = head\n",
        "  if temp is None :\n",
        "    return\n",
        "  else :\n",
        "    print (temp.getdata(), end = \"->\")\n",
        "    traverse_recurion(head.getnext())\n",
        "\n",
        "\n",
        "traverse_recurion(head)"
      ],
      "metadata": {
        "colab": {
          "base_uri": "https://localhost:8080/"
        },
        "id": "iL9ALa7Vgw5_",
        "outputId": "99b442da-936e-4c74-9a94-4cdef813e881"
      },
      "execution_count": 4,
      "outputs": [
        {
          "output_type": "stream",
          "name": "stdout",
          "text": [
            "1->2->3->4->5->"
          ]
        }
      ]
    },
    {
      "cell_type": "code",
      "source": [],
      "metadata": {
        "id": "BJkHYibRgzsx"
      },
      "execution_count": null,
      "outputs": []
    }
  ]
}