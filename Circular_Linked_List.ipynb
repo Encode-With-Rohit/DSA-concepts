{
  "nbformat": 4,
  "nbformat_minor": 0,
  "metadata": {
    "colab": {
      "provenance": []
    },
    "kernelspec": {
      "name": "python3",
      "display_name": "Python 3"
    },
    "language_info": {
      "name": "python"
    }
  },
  "cells": [
    {
      "cell_type": "code",
      "execution_count": 1,
      "metadata": {
        "id": "zPzqYG-amyCj"
      },
      "outputs": [],
      "source": [
        "#Defining a class 'CirNode'\n",
        "class CirNode :\n",
        "\n",
        "  def __init__ (self, data, next=None) :\n",
        "    self.__data = data\n",
        "    self.__next = next\n",
        "\n",
        "  #Method to get the data value\n",
        "  def getdata (self) :\n",
        "    return self.__data\n",
        "\n",
        "  #Method to set the data value\n",
        "  def setdata (self, data) :\n",
        "    self.__data = data\n",
        "\n",
        "  #Method to get the next value\n",
        "  def getnext (self) :\n",
        "    return self.__next\n",
        "\n",
        "  #Method to set the next value\n",
        "  def setnext (self, next) :\n",
        "    self.__next = next"
      ]
    },
    {
      "cell_type": "code",
      "source": [
        "#Defining the collection of nodes\n",
        "head = CirNode(1)\n",
        "node1 = CirNode(2)\n",
        "node2 = CirNode(3)\n",
        "node3 = CirNode(4)\n",
        "node4 = CirNode(5)\n",
        "\n",
        "#Creating linkage between the nodes\n",
        "head.setnext(node1)\n",
        "node1.setnext(node2)\n",
        "node2.setnext(node3)\n",
        "node3.setnext(node4)\n",
        "node4.setnext(head)"
      ],
      "metadata": {
        "id": "4tJb2OzZndGs"
      },
      "execution_count": 2,
      "outputs": []
    },
    {
      "cell_type": "code",
      "source": [
        "#Traversing though each of the nodes using 'Loop' and priniting out the circular linked list\n",
        "def traverseCLL(head) :\n",
        "  temp = head.getnext()\n",
        "  print (head.getdata(), end = \"->\")\n",
        "  while temp != head :\n",
        "    print (temp.getdata(), end = \"->\")\n",
        "    temp = temp.getnext()\n",
        "\n",
        "\n",
        "traverseCLL(head)"
      ],
      "metadata": {
        "colab": {
          "base_uri": "https://localhost:8080/"
        },
        "id": "WKFb5sybnif5",
        "outputId": "b110e8de-4a8b-4982-98d9-9d1507eb1d22"
      },
      "execution_count": 3,
      "outputs": [
        {
          "output_type": "stream",
          "name": "stdout",
          "text": [
            "1->2->3->4->5->"
          ]
        }
      ]
    },
    {
      "cell_type": "code",
      "source": [],
      "metadata": {
        "id": "XBEs50sYnjoV"
      },
      "execution_count": null,
      "outputs": []
    }
  ]
}