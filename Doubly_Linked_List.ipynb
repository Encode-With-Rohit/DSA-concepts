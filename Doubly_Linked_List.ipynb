{
  "nbformat": 4,
  "nbformat_minor": 0,
  "metadata": {
    "colab": {
      "provenance": []
    },
    "kernelspec": {
      "name": "python3",
      "display_name": "Python 3"
    },
    "language_info": {
      "name": "python"
    }
  },
  "cells": [
    {
      "cell_type": "code",
      "execution_count": 1,
      "metadata": {
        "id": "qKxnwUkpN2jb"
      },
      "outputs": [],
      "source": [
        "class Node :\n",
        "\n",
        "  def __init__ (self, data, next=None, prev=None) :\n",
        "    self.__data = data\n",
        "    self.__next = next\n",
        "    self.__prev = prev\n",
        "\n",
        "  def getdata(self) :\n",
        "    return self.__data\n",
        "  def setdata(self, data) :\n",
        "    self.__data = data\n",
        "\n",
        "  def getnext(self) :\n",
        "    return self.__next\n",
        "  def setnext(self, next) :\n",
        "    self.__next = next\n",
        "\n",
        "  def getprev(self) :\n",
        "    return self.__prev\n",
        "  def setprev(self, prev) :\n",
        "    self.__prev = prev"
      ]
    },
    {
      "cell_type": "code",
      "source": [
        "head = Node(1)\n",
        "node1 = Node(2)\n",
        "node2 = Node(3)\n",
        "node3 = Node(4)\n",
        "node4 = Node(5)\n",
        "\n",
        "\n",
        "head.setnext(node1)\n",
        "node1.setnext(node2)\n",
        "node1.setprev(head)\n",
        "node2.setnext(node3)\n",
        "node2.setprev(node1)\n",
        "node3.setnext(node4)\n",
        "node3.setprev(node2)\n",
        "node4.setprev(node3)"
      ],
      "metadata": {
        "id": "AW38xqDIPSiZ"
      },
      "execution_count": 2,
      "outputs": []
    },
    {
      "cell_type": "code",
      "source": [
        "def traverse(head) :\n",
        "  temp = head\n",
        "  while temp :\n",
        "    print (temp.getdata(), end = \"->\")\n",
        "    temp = temp.getnext()\n",
        "  print ()\n",
        "\n",
        "traverse(head)"
      ],
      "metadata": {
        "colab": {
          "base_uri": "https://localhost:8080/"
        },
        "id": "OFHJsvQqRL__",
        "outputId": "8544bf93-63b8-4c4d-e06e-2dad08dc9852"
      },
      "execution_count": 3,
      "outputs": [
        {
          "output_type": "stream",
          "name": "stdout",
          "text": [
            "1->2->3->4->5->\n"
          ]
        }
      ]
    }
  ]
}